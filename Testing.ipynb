{
 "cells": [
  {
   "cell_type": "code",
   "execution_count": 4,
   "id": "37b652d1",
   "metadata": {},
   "outputs": [],
   "source": [
    "#Testing For Hackathon"
   ]
  },
  {
   "cell_type": "code",
   "execution_count": 5,
   "id": "92f64d24",
   "metadata": {},
   "outputs": [
    {
     "data": {
      "text/plain": [
       "'C:\\\\Users\\\\soumy'"
      ]
     },
     "execution_count": 5,
     "metadata": {},
     "output_type": "execute_result"
    }
   ],
   "source": [
    "pwd\n"
   ]
  },
  {
   "cell_type": "code",
   "execution_count": null,
   "id": "d3d21554",
   "metadata": {},
   "outputs": [],
   "source": [
    "#Amrita checking"
   ]
  },
  {
   "cell_type": "code",
   "execution_count": null,
   "id": "6d2d4949",
   "metadata": {},
   "outputs": [],
   "source": [
    "#amrita"
   ]
  }
 ],
 "metadata": {
  "kernelspec": {
   "display_name": "Python 3 (ipykernel)",
   "language": "python",
   "name": "python3"
  },
  "language_info": {
   "codemirror_mode": {
    "name": "ipython",
    "version": 3
   },
   "file_extension": ".py",
   "mimetype": "text/x-python",
   "name": "python",
   "nbconvert_exporter": "python",
   "pygments_lexer": "ipython3",
   "version": "3.11.5"
  }
 },
 "nbformat": 4,
 "nbformat_minor": 5
}
